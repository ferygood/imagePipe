{
 "cells": [
  {
   "cell_type": "code",
   "execution_count": 21,
   "metadata": {},
   "outputs": [],
   "source": [
    "#import packages\n",
    "import os\n",
    "import torch\n",
    "from torchvision import transforms, utils\n",
    "from torch.utils.data import Dataset, DataLoader, random_split\n",
    "from albumentations.pytorch.transforms import ToTensorV2\n",
    "from albumentations import (HorizontalFlip, ShiftScaleRotate, Normalize, Resize, Compose, GaussNoise)\n",
    "from skimage import io, transform\n",
    "import numpy as np"
   ]
  },
  {
   "attachments": {},
   "cell_type": "markdown",
   "metadata": {},
   "source": [
    "Load image data using pytorch data loader, including process such as horizontal flip and normalization"
   ]
  },
  {
   "cell_type": "code",
   "execution_count": 16,
   "metadata": {},
   "outputs": [],
   "source": [
    "def get_transforms(mean, std):\n",
    "    \n",
    "    list_transforms = []\n",
    "    list_transforms.extend([HorizontalFlip(p=0.5)])\n",
    "    list_transforms.extend([Normalize(mean=mean, std=std, p=1), ToTensorV2()])\n",
    "    list_trfms = Compose(list_transforms)\n",
    "    return list_trfms"
   ]
  },
  {
   "cell_type": "code",
   "execution_count": 29,
   "metadata": {},
   "outputs": [],
   "source": [
    "class Nuclie_data(Dataset): # inherit from Dataset class provided by PyTorch\n",
    "    def __init__(self, path):\n",
    "        self.path = path\n",
    "        self.folders = os.listdir(os.path.join(path, 'images/stage1_train'))\n",
    "        self.transforms = get_transforms(0.5, 0.5)\n",
    "\n",
    "    def __len__(self):\n",
    "        return len(self.folders)\n",
    "\n",
    "    def __getitem__(self, idx):\n",
    "        image_folder = os.path.join(self.path, 'images/stage1_train/', self.folders[idx], 'images/')\n",
    "        mask_folder = os.path.join(self.path, 'images/stage1_train/', self.folders[idx], 'masks/')\n",
    "        image_path = os.path.join(image_folder, os.listdir(image_folder)[0])\n",
    "\n",
    "        img = io.imread(image_path)[:, :, :3].astype('float32') # only first three channel, RGB\n",
    "        img = transform.resize(img,(128, 128))\n",
    "\n",
    "        mask = self.get_mask(mask_folder, 128, 128).astype('float32')\n",
    "\n",
    "        augmented = self.transforms(image=img, mask=mask)\n",
    "        img = augmented['image']\n",
    "        mask = augmented['mask']\n",
    "        \n",
    "        # check if mask is 2D\n",
    "        if mask.ndim == 2:\n",
    "            mask = np.expand_dims(mask, axis=0)\n",
    "\n",
    "        mask = mask.permute(0, 2, 1)\n",
    "\n",
    "        return (img, mask)\n",
    "\n",
    "    def get_mask(self, mask_folder, IMG_HEIGHT, IMG_WIDTH):\n",
    "        mask = np.zeros((IMG_HEIGHT, IMG_WIDTH, 1), dtype=bool)\n",
    "        for mask_ in os.listdir(mask_folder):\n",
    "            mask_ = io.imread(os.path.join(mask_folder, mask_))\n",
    "            mask_ = transform.resize(mask_, (IMG_HEIGHT, IMG_WIDTH))\n",
    "            mask_ = np.expand_dims(mask_, axis=-1)\n",
    "            mask = np.maximum(mask, mask_)\n",
    "\n",
    "        return mask   "
   ]
  },
  {
   "cell_type": "code",
   "execution_count": 30,
   "metadata": {},
   "outputs": [],
   "source": [
    "base_dir = \"./\"\n",
    "data = Nuclie_data(base_dir)"
   ]
  },
  {
   "cell_type": "code",
   "execution_count": 31,
   "metadata": {},
   "outputs": [
    {
     "name": "stdout",
     "output_type": "stream",
     "text": [
      "670\n",
      "(tensor([[[-0.3354, -0.1203,  0.1596,  ..., -0.8039, -0.7829, -0.6807],\n",
      "         [-0.4754, -0.1831,  0.0132,  ..., -0.8172, -0.8051, -0.7579],\n",
      "         [-0.6319, -0.4648, -0.3931,  ..., -0.8217, -0.8146, -0.7960],\n",
      "         ...,\n",
      "         [-0.2834, -0.2742, -0.3361,  ..., -0.8278, -0.7971, -0.7516],\n",
      "         [-0.4539, -0.4800, -0.5659,  ..., -0.8424, -0.8290, -0.8142],\n",
      "         [-0.5526, -0.6608, -0.7103,  ..., -0.8492, -0.8434, -0.8378]],\n",
      "\n",
      "        [[-0.3354, -0.1203,  0.1596,  ..., -0.8039, -0.7829, -0.6807],\n",
      "         [-0.4754, -0.1831,  0.0132,  ..., -0.8172, -0.8051, -0.7579],\n",
      "         [-0.6319, -0.4648, -0.3931,  ..., -0.8217, -0.8146, -0.7960],\n",
      "         ...,\n",
      "         [-0.2834, -0.2742, -0.3361,  ..., -0.8278, -0.7971, -0.7516],\n",
      "         [-0.4539, -0.4800, -0.5659,  ..., -0.8424, -0.8290, -0.8142],\n",
      "         [-0.5526, -0.6608, -0.7103,  ..., -0.8492, -0.8434, -0.8378]],\n",
      "\n",
      "        [[-0.3354, -0.1203,  0.1596,  ..., -0.8039, -0.7829, -0.6807],\n",
      "         [-0.4754, -0.1831,  0.0132,  ..., -0.8172, -0.8051, -0.7579],\n",
      "         [-0.6319, -0.4648, -0.3931,  ..., -0.8217, -0.8146, -0.7960],\n",
      "         ...,\n",
      "         [-0.2834, -0.2742, -0.3361,  ..., -0.8278, -0.7971, -0.7516],\n",
      "         [-0.4539, -0.4800, -0.5659,  ..., -0.8424, -0.8290, -0.8142],\n",
      "         [-0.5526, -0.6608, -0.7103,  ..., -0.8492, -0.8434, -0.8378]]]), tensor([[[7.1822e-02, 8.3089e-01, 9.5278e-01,  ..., 1.9237e-03,\n",
      "          0.0000e+00, 0.0000e+00]],\n",
      "\n",
      "        [[6.6713e-02, 8.1318e-01, 7.9952e-01,  ..., 2.7572e-05,\n",
      "          0.0000e+00, 0.0000e+00]],\n",
      "\n",
      "        [[1.8975e-02, 4.5775e-01, 4.7351e-01,  ..., 2.0673e-05,\n",
      "          8.9705e-08, 0.0000e+00]],\n",
      "\n",
      "        ...,\n",
      "\n",
      "        [[9.8560e-01, 9.9065e-01, 9.7762e-01,  ..., 2.8533e-06,\n",
      "          5.9428e-03, 1.6962e-01]],\n",
      "\n",
      "        [[3.9573e-01, 4.6032e-01, 3.8472e-01,  ..., 0.0000e+00,\n",
      "          9.6319e-06, 4.6356e-04]],\n",
      "\n",
      "        [[3.1839e-03, 4.5702e-03, 3.1717e-03,  ..., 0.0000e+00,\n",
      "          0.0000e+00, 0.0000e+00]]]))\n"
     ]
    }
   ],
   "source": [
    "print(data.__len__())\n",
    "print(data.__getitem__(0))"
   ]
  }
 ],
 "metadata": {
  "kernelspec": {
   "display_name": "image",
   "language": "python",
   "name": "python3"
  },
  "language_info": {
   "codemirror_mode": {
    "name": "ipython",
    "version": 3
   },
   "file_extension": ".py",
   "mimetype": "text/x-python",
   "name": "python",
   "nbconvert_exporter": "python",
   "pygments_lexer": "ipython3",
   "version": "3.9.2"
  },
  "orig_nbformat": 4
 },
 "nbformat": 4,
 "nbformat_minor": 2
}
